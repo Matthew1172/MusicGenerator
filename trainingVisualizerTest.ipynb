{
 "cells": [
  {
   "cell_type": "code",
   "execution_count": 82,
   "outputs": [
    {
     "name": "stdout",
     "output_type": "stream",
     "text": [
      "GPU is not available, using CPU.\n",
      "Device is now:  cpu\n"
     ]
    }
   ],
   "source": [
    "import numpy as np\n",
    "import os\n",
    "import time\n",
    "import regex as re\n",
    "import subprocess\n",
    "import urllib\n",
    "import functools\n",
    "\n",
    "import torch.distributions.distribution\n",
    "from IPython import display as ipythondisplay\n",
    "from tqdm import tqdm\n",
    "import matplotlib.pyplot as plt\n",
    "\n",
    "from MySong import *\n",
    "from Graph import PeriodicPlotter\n",
    "from LSTM_Model import *\n",
    "\n",
    "if(torch.cuda.is_available()):\n",
    "    print(\"GPU: \",torch.cuda.get_device_name(0),\" is available, Switching now.\")\n",
    "else:\n",
    "    print(\"GPU is not available, using CPU.\")\n",
    "\n",
    "device = torch.device(\"cuda\" if torch.cuda.is_available() else \"cpu\")\n",
    "print(\"Device is now: \", device)"
   ],
   "metadata": {
    "collapsed": false,
    "pycharm": {
     "name": "#%%\n"
    }
   }
  },
  {
   "cell_type": "code",
   "execution_count": 83,
   "outputs": [],
   "source": [
    "train = True\n",
    "inference = True\n",
    "### Hyperparameter setting and optimization ###\n",
    "\n",
    "epochs = 1\n",
    "\n",
    "# Optimization parameters:\n",
    "num_training_iterations = 10000  # Increase this to train longer\n",
    "batch_size = 4  # Experiment between 1 and 64\n",
    "seq_length = 100  # Experiment between 50 and 500\n",
    "learning_rate = 25e-3  # Experiment between 1e-5 and 1e-1\n",
    "\n",
    "# Model parameters:\n",
    "embedding_dim = 256\n",
    "rnn_units = 2048  # Experiment between 1 and 2048\n",
    "\n",
    "# Checkpoint location:\n",
    "checkpoint_dir = 'training_checkpoints_pytorch'\n",
    "checkpoint_prefix = 'my_ckpt.pth'\n",
    "\n",
    "checkpoint_dir = os.path.join(cwd, checkpoint_dir)\n",
    "checkpoint_prefix = os.path.join(checkpoint_dir, checkpoint_prefix)"
   ],
   "metadata": {
    "collapsed": false,
    "pycharm": {
     "name": "#%%\n"
    }
   }
  },
  {
   "cell_type": "code",
   "execution_count": 84,
   "outputs": [
    {
     "name": "stdout",
     "output_type": "stream",
     "text": [
      "Found 818 songs in text\n",
      "\n",
      "Example song: \n",
      "X:1\n",
      "T:Alexander's\n",
      "Z: id:dc-hornpipe-1\n",
      "M:C|\n",
      "L:1/8\n",
      "K:D Major\n",
      "(3ABc|dAFA DFAd|fdcd FAdf|gfge fefd|(3efe (3dcB A2 (3ABc|!\n",
      "dAFA DFAd|fdcd FAdf|gfge fefd|(3efe dc d2:|!\n",
      "AG|FAdA FAdA|GBdB GBdB|Acec Acec|dfaf gecA|!\n",
      "FAdA FAdA|GBdB GBdB|Aceg fefd|(3efe dc d2:|!\n"
     ]
    }
   ],
   "source": [
    "songs = []\n",
    "with open(os.path.join(cwd, 'dataset', 'irish.abc'), 'r') as f:\n",
    "    text = f.read()\n",
    "    songs = extract_song_snippet(text)\n",
    "\n",
    "# Print one of the songs to inspect it in greater detail!\n",
    "example_song = songs[0]\n",
    "print(\"\\nExample song: \")\n",
    "print(example_song)\n",
    "\n",
    "# need abc2midi and timidity\n",
    "#play_song(example_song)"
   ],
   "metadata": {
    "collapsed": false,
    "pycharm": {
     "name": "#%%\n"
    }
   }
  },
  {
   "cell_type": "code",
   "execution_count": 85,
   "outputs": [
    {
     "name": "stdout",
     "output_type": "stream",
     "text": [
      "There are 83 unique characters in the dataset\n",
      "{\n",
      "  '\\n':   0,\n",
      "  ' ' :   1,\n",
      "  '!' :   2,\n",
      "  '\"' :   3,\n",
      "  '#' :   4,\n",
      "  \"'\" :   5,\n",
      "  '(' :   6,\n",
      "  ')' :   7,\n",
      "  ',' :   8,\n",
      "  '-' :   9,\n",
      "  '.' :  10,\n",
      "  '/' :  11,\n",
      "  '0' :  12,\n",
      "  '1' :  13,\n",
      "  '2' :  14,\n",
      "  '3' :  15,\n",
      "  '4' :  16,\n",
      "  '5' :  17,\n",
      "  '6' :  18,\n",
      "  '7' :  19,\n",
      "  ...\n",
      "}\n",
      "'X:1\\nT:Alex' ---- characters mapped to int ----> [49 22 13  0 45 22 26 67 60 79]\n"
     ]
    }
   ],
   "source": [
    "# Join our list of song strings into a single string containing all songs\n",
    "songs_joined = \"\\n\\n\".join(songs)\n",
    "\n",
    "# Find all unique characters in the joined string\n",
    "vocab = sorted(set(songs_joined))\n",
    "print(\"There are\", len(vocab), \"unique characters in the dataset\")\n",
    "\n",
    "vocab_size = len(vocab)\n",
    "\n",
    "### Define numerical representation of text ###\n",
    "\n",
    "# Create a mapping from character to unique index.\n",
    "# For example, to get the index of the character \"d\",\n",
    "#   we can evaluate `char2idx[\"d\"]`.\n",
    "char2idx = {u: i for i, u in enumerate(vocab)}\n",
    "\n",
    "# Create a mapping from indices to characters. This is\n",
    "#   the inverse of char2idx and allows us to convert back\n",
    "#   from unique index to the character in our vocabulary.\n",
    "idx2char = np.array(vocab)  ### Define numerical representation of text ###\n",
    "\n",
    "# Create a mapping from character to unique index.\n",
    "# For example, to get the index of the character \"d\",\n",
    "#   we can evaluate `char2idx[\"d\"]`.\n",
    "char2idx = {u: i for i, u in enumerate(vocab)}\n",
    "\n",
    "# Create a mapping from indices to characters. This is\n",
    "#   the inverse of char2idx and allows us to convert back\n",
    "#   from unique index to the character in our vocabulary.\n",
    "idx2char = np.array(vocab)\n",
    "\n",
    "print('{')\n",
    "for char, _ in zip(char2idx, range(20)):\n",
    "    print('  {:4s}: {:3d},'.format(repr(char), char2idx[char]))\n",
    "print('  ...\\n}')\n",
    "\n",
    "### Vectorize the songs string ###\n",
    "\n",
    "'''\n",
    "  NOTE: the output of the `vectorize_string` function\n",
    "  should be a np.array with `N` elements, where `N` is\n",
    "  the number of characters in the input string\n",
    "'''\n",
    "\n",
    "\n",
    "def vectorize_string(string):\n",
    "    vectorized_list = np.array([char2idx[s] for s in string])\n",
    "    return vectorized_list\n",
    "\n",
    "\n",
    "vectorized_songs = vectorize_string(songs_joined)\n",
    "\n",
    "print('{} ---- characters mapped to int ----> {}'.format(repr(songs_joined[:10]), vectorized_songs[:10]))\n",
    "# check that vectorized_songs is a numpy array\n",
    "assert isinstance(vectorized_songs, np.ndarray), \"returned result should be a numpy array\"\n",
    "\n",
    "\n",
    "def test_batch_func_types(func, args):\n",
    "    ret = func(*args)\n",
    "    assert len(ret) == 2, \"[FAIL] get_batch must return two arguments (input and label)\"\n",
    "    assert type(ret[0]) == np.ndarray, \"[FAIL] test_batch_func_types: x is not np.array\"\n",
    "    assert type(ret[1]) == np.ndarray, \"[FAIL] test_batch_func_types: y is not np.array\"\n",
    "    print(\"[PASS] test_batch_func_types\")\n",
    "    return True\n",
    "\n",
    "\n",
    "def test_batch_func_shapes(func, args):\n",
    "    dataset, seq_length, batch_size = args\n",
    "    x, y = func(*args)\n",
    "    correct = (batch_size, seq_length)\n",
    "    assert x.shape == correct, \"[FAIL] test_batch_func_shapes: x {} is not correct shape {}\".format(x.shape, correct)\n",
    "    assert y.shape == correct, \"[FAIL] test_batch_func_shapes: y {} is not correct shape {}\".format(y.shape, correct)\n",
    "    print(\"[PASS] test_batch_func_shapes\")\n",
    "    return True\n",
    "\n",
    "\n",
    "def test_batch_func_next_step(func, args):\n",
    "    x, y = func(*args)\n",
    "    assert (x[:, 1:] == y[:, :-1]).all(), \"[FAIL] test_batch_func_next_step: x_{t} must equal y_{t-1} for all t\"\n",
    "    print(\"[PASS] test_batch_func_next_step\")\n",
    "    return True\n",
    "\n",
    "\n",
    "### Batch definition to create training examples ###\n",
    "\n",
    "def get_batch(vectorized_songs, seq_length, batch_size):\n",
    "    # the length of the vectorized songs string\n",
    "    n = vectorized_songs.shape[0] - 1\n",
    "    # randomly choose the starting indices for the examples in the training batch\n",
    "    idx = np.random.choice(n - seq_length, batch_size)\n",
    "\n",
    "    input_batch = [vectorized_songs[i:i + seq_length] for i in idx]\n",
    "    output_batch = [vectorized_songs[i + 1: i + 1 + seq_length] for i in idx]\n",
    "\n",
    "    # x_batch, y_batch provide the true inputs and targets for network training\n",
    "    x_batch = np.reshape(input_batch, [batch_size, seq_length])\n",
    "    y_batch = np.reshape(output_batch, [batch_size, seq_length])\n",
    "    return x_batch, y_batch"
   ],
   "metadata": {
    "collapsed": false,
    "pycharm": {
     "name": "#%%\n"
    }
   }
  },
  {
   "cell_type": "code",
   "execution_count": 86,
   "outputs": [
    {
     "name": "stdout",
     "output_type": "stream",
     "text": [
      "[PASS] test_batch_func_types\n",
      "[PASS] test_batch_func_shapes\n",
      "[PASS] test_batch_func_next_step\n",
      "======\n",
      "[PASS] passed all tests!\n",
      "Step   0\n",
      "  input: 1 (' ')\n",
      "  expected output: 64 ('i')\n",
      "Step   1\n",
      "  input: 64 ('i')\n",
      "  expected output: 59 ('d')\n",
      "Step   2\n",
      "  input: 59 ('d')\n",
      "  expected output: 22 (':')\n",
      "Step   3\n",
      "  input: 22 (':')\n",
      "  expected output: 59 ('d')\n",
      "Step   4\n",
      "  input: 59 ('d')\n",
      "  expected output: 58 ('c')\n"
     ]
    }
   ],
   "source": [
    "# Perform some simple tests to make sure your batch function is working properly!\n",
    "test_args = (vectorized_songs, 10, 2)\n",
    "if not test_batch_func_types(get_batch, test_args) or \\\n",
    "        not test_batch_func_shapes(get_batch, test_args) or \\\n",
    "        not test_batch_func_next_step(get_batch, test_args):\n",
    "    print(\"======\\n[FAIL] could not pass tests\")\n",
    "else:\n",
    "    print(\"======\\n[PASS] passed all tests!\")\n",
    "\n",
    "x_batch, y_batch = get_batch(vectorized_songs, seq_length=5, batch_size=1)\n",
    "\n",
    "for i, (input_idx, target_idx) in enumerate(zip(np.squeeze(x_batch), np.squeeze(y_batch))):\n",
    "    print(\"Step {:3d}\".format(i))\n",
    "    print(\"  input: {} ({:s})\".format(input_idx, repr(idx2char[input_idx])))\n",
    "    print(\"  expected output: {} ({:s})\".format(target_idx, repr(idx2char[target_idx])))"
   ],
   "metadata": {
    "collapsed": false,
    "pycharm": {
     "name": "#%%\n"
    }
   }
  },
  {
   "cell_type": "code",
   "execution_count": 87,
   "metadata": {
    "collapsed": true
   },
   "outputs": [
    {
     "name": "stdout",
     "output_type": "stream",
     "text": [
      "MyLSTM(\n",
      "  (embedding): Embedding(400, 256)\n",
      "  (lstm): LSTM(256, 2048, batch_first=True)\n",
      "  (linear): Linear(in_features=2048, out_features=83, bias=True)\n",
      ")\n",
      "Input shape:       torch.Size([4, 100])  # (batch_size, sequence_length)\n",
      "Prediction shape:  torch.Size([4, 100, 83]) # (batch_size, sequence_length, vocab_size)\n",
      "Input: \n",
      " 'e2 e2fe|dcBA B2c2|d4 d3:|!\\ne|f2f2 f2ef|g2g2 g2fg|e2e2 e2de|f2f2 fgaf|!\\nd2d2 d2cd|e2e2 e2fe|dcBA B2c2'\n",
      "Next Char Predictions: \n",
      " '3F2d)dc5vncc\"CLDLCw!tN[DSWxa_.)KPXQ2CC-p<W!FmGz,8#B- P7L9EkLi<n3^xj.vv7jGhOB2p]D|\\'Wp0QNX,Aqbo<1d03tU'\n"
     ]
    }
   ],
   "source": [
    "# Build a simple model with default hyperparameters. You will get the\n",
    "#   chance to change these later.\n",
    "#model = MusicGenerator(len(vocab), embedding_dim=embedding_dim, rnn_units=rnn_units, batch_size=batch_size, seq_length=seq_length)\n",
    "\n",
    "model = MyLSTM(vocab_size, embedding_dim, rnn_units, batch_size, seq_length)\n",
    "model.to(device)\n",
    "print(model)\n",
    "\n",
    "x, y = get_batch(vectorized_songs, seq_length=100, batch_size=4)\n",
    "\n",
    "hn = torch.zeros(1, 1, rnn_units).to(device)  # [num_layers*num_directions,batch,hidden_size]\n",
    "cn = torch.zeros(1, 1, rnn_units).to(device)  # [num_layers*num_directions,batch,hidden_size]\n",
    "x = torch.tensor(x).to(device)\n",
    "pred, (hn, cn) = model(x, hn, cn)\n",
    "#pred = model(x)\n",
    "\n",
    "print(\"Input shape:      \", x.shape, \" # (batch_size, sequence_length)\")\n",
    "print(\"Prediction shape: \", pred.shape, \"# (batch_size, sequence_length, vocab_size)\")\n",
    "\n",
    "sampled_indices = torch.distributions.categorical.Categorical(logits=pred[0]).sample()\n",
    "sampled_indices = torch.squeeze(sampled_indices, dim=-1).cpu().numpy()\n",
    "\n",
    "print(\"Input: \\n\", repr(\"\".join(idx2char[x.cpu()[0]])))\n",
    "# print()\n",
    "print(\"Next Char Predictions: \\n\", repr(\"\".join(idx2char[sampled_indices])))"
   ]
  },
  {
   "cell_type": "code",
   "execution_count": 88,
   "outputs": [
    {
     "name": "stdout",
     "output_type": "stream",
     "text": [
      "Prediction shape:  torch.Size([4, 100, 83])  # (batch_size, sequence_length, vocab_size)\n",
      "scalar_loss:       4.4182777\n",
      "tensor(4.4183, grad_fn=<NllLoss2DBackward0>)\n"
     ]
    }
   ],
   "source": [
    "### Defining the loss function ###\n",
    "\n",
    "def compute_loss(labels, logits):\n",
    "    x = logits.permute((0, 2, 1))  # shape of preds must be (N, C, H, W) instead of (N, H, W, C)\n",
    "    x.to(device)\n",
    "    y = torch.tensor(labels, device=device).long()  # shape of labels must be (N, H, W) and type must be long integer\n",
    "    F = torch.nn.CrossEntropyLoss()\n",
    "    loss = F(x, y)\n",
    "    loss.to(device)\n",
    "    return loss\n",
    "\n",
    "example_batch_loss = compute_loss(y, pred)\n",
    "\n",
    "print(\"Prediction shape: \", pred.shape, \" # (batch_size, sequence_length, vocab_size)\")\n",
    "'''\n",
    "example_batch_loss.numpy().mean() = 4.417909\n",
    "'''\n",
    "print(\"scalar_loss:      \", example_batch_loss.cpu().detach().numpy().mean())\n",
    "print(example_batch_loss)"
   ],
   "metadata": {
    "collapsed": false,
    "pycharm": {
     "name": "#%%\n"
    }
   }
  },
  {
   "cell_type": "code",
   "execution_count": 89,
   "outputs": [
    {
     "data": {
      "text/plain": "<Figure size 432x288 with 1 Axes>",
      "image/png": "[encoded data removed]"
     },
     "metadata": {},
     "output_type": "display_data"
    },
    {
     "name": "stderr",
     "output_type": "stream",
     "text": [
      "  1%|          | 54/10000 [18:25<56:33:44, 20.47s/it]\n"
     ]
    },
    {
     "ename": "KeyboardInterrupt",
     "evalue": "",
     "output_type": "error",
     "traceback": [
      "\u001B[1;31m---------------------------------------------------------------------------\u001B[0m",
      "\u001B[1;31mKeyboardInterrupt\u001B[0m                         Traceback (most recent call last)",
      "\u001B[1;32m~\\AppData\\Local\\Temp/ipykernel_15908/2904105665.py\u001B[0m in \u001B[0;36m<module>\u001B[1;34m\u001B[0m\n\u001B[0;32m     55\u001B[0m             \u001B[1;31m# Grab a batch and propagate it through the network\u001B[0m\u001B[1;33m\u001B[0m\u001B[1;33m\u001B[0m\u001B[0m\n\u001B[0;32m     56\u001B[0m             \u001B[0mx_batch\u001B[0m\u001B[1;33m,\u001B[0m \u001B[0my_batch\u001B[0m \u001B[1;33m=\u001B[0m \u001B[0mget_batch\u001B[0m\u001B[1;33m(\u001B[0m\u001B[0mvectorized_songs\u001B[0m\u001B[1;33m,\u001B[0m \u001B[0mseq_length\u001B[0m\u001B[1;33m,\u001B[0m \u001B[0mbatch_size\u001B[0m\u001B[1;33m)\u001B[0m\u001B[1;33m\u001B[0m\u001B[1;33m\u001B[0m\u001B[0m\n\u001B[1;32m---> 57\u001B[1;33m             \u001B[0mloss\u001B[0m\u001B[1;33m,\u001B[0m \u001B[1;33m(\u001B[0m\u001B[0mhn\u001B[0m\u001B[1;33m,\u001B[0m \u001B[0mcn\u001B[0m\u001B[1;33m)\u001B[0m \u001B[1;33m=\u001B[0m \u001B[0mtorch_train\u001B[0m\u001B[1;33m(\u001B[0m\u001B[0mx_batch\u001B[0m\u001B[1;33m,\u001B[0m \u001B[0my_batch\u001B[0m\u001B[1;33m,\u001B[0m \u001B[0mhn\u001B[0m\u001B[1;33m,\u001B[0m \u001B[0mcn\u001B[0m\u001B[1;33m)\u001B[0m\u001B[1;33m\u001B[0m\u001B[1;33m\u001B[0m\u001B[0m\n\u001B[0m\u001B[0;32m     58\u001B[0m \u001B[1;33m\u001B[0m\u001B[0m\n\u001B[0;32m     59\u001B[0m             \u001B[1;31m# Update the progress bar\u001B[0m\u001B[1;33m\u001B[0m\u001B[1;33m\u001B[0m\u001B[0m\n",
      "\u001B[1;32m~\\AppData\\Local\\Temp/ipykernel_15908/2904105665.py\u001B[0m in \u001B[0;36mtorch_train\u001B[1;34m(x, y, hn, cn)\u001B[0m\n\u001B[0;32m     28\u001B[0m \u001B[1;33m\u001B[0m\u001B[0m\n\u001B[0;32m     29\u001B[0m     \u001B[1;31m# compute gradients (grad)\u001B[0m\u001B[1;33m\u001B[0m\u001B[1;33m\u001B[0m\u001B[0m\n\u001B[1;32m---> 30\u001B[1;33m     \u001B[0mloss\u001B[0m\u001B[1;33m.\u001B[0m\u001B[0mbackward\u001B[0m\u001B[1;33m(\u001B[0m\u001B[1;33m)\u001B[0m\u001B[1;33m\u001B[0m\u001B[1;33m\u001B[0m\u001B[0m\n\u001B[0m\u001B[0;32m     31\u001B[0m     \u001B[0moptimizer\u001B[0m\u001B[1;33m.\u001B[0m\u001B[0mstep\u001B[0m\u001B[1;33m(\u001B[0m\u001B[1;33m)\u001B[0m\u001B[1;33m\u001B[0m\u001B[1;33m\u001B[0m\u001B[0m\n\u001B[0;32m     32\u001B[0m     \u001B[1;32mreturn\u001B[0m \u001B[0mloss\u001B[0m\u001B[1;33m,\u001B[0m \u001B[1;33m(\u001B[0m\u001B[0mhn\u001B[0m\u001B[1;33m,\u001B[0m \u001B[0mcn\u001B[0m\u001B[1;33m)\u001B[0m\u001B[1;33m\u001B[0m\u001B[1;33m\u001B[0m\u001B[0m\n",
      "\u001B[1;32m~\\anaconda3\\envs\\MusicGenerator\\lib\\site-packages\\torch\\_tensor.py\u001B[0m in \u001B[0;36mbackward\u001B[1;34m(self, gradient, retain_graph, create_graph, inputs)\u001B[0m\n\u001B[0;32m    305\u001B[0m                 \u001B[0mcreate_graph\u001B[0m\u001B[1;33m=\u001B[0m\u001B[0mcreate_graph\u001B[0m\u001B[1;33m,\u001B[0m\u001B[1;33m\u001B[0m\u001B[1;33m\u001B[0m\u001B[0m\n\u001B[0;32m    306\u001B[0m                 inputs=inputs)\n\u001B[1;32m--> 307\u001B[1;33m         \u001B[0mtorch\u001B[0m\u001B[1;33m.\u001B[0m\u001B[0mautograd\u001B[0m\u001B[1;33m.\u001B[0m\u001B[0mbackward\u001B[0m\u001B[1;33m(\u001B[0m\u001B[0mself\u001B[0m\u001B[1;33m,\u001B[0m \u001B[0mgradient\u001B[0m\u001B[1;33m,\u001B[0m \u001B[0mretain_graph\u001B[0m\u001B[1;33m,\u001B[0m \u001B[0mcreate_graph\u001B[0m\u001B[1;33m,\u001B[0m \u001B[0minputs\u001B[0m\u001B[1;33m=\u001B[0m\u001B[0minputs\u001B[0m\u001B[1;33m)\u001B[0m\u001B[1;33m\u001B[0m\u001B[1;33m\u001B[0m\u001B[0m\n\u001B[0m\u001B[0;32m    308\u001B[0m \u001B[1;33m\u001B[0m\u001B[0m\n\u001B[0;32m    309\u001B[0m     \u001B[1;32mdef\u001B[0m \u001B[0mregister_hook\u001B[0m\u001B[1;33m(\u001B[0m\u001B[0mself\u001B[0m\u001B[1;33m,\u001B[0m \u001B[0mhook\u001B[0m\u001B[1;33m)\u001B[0m\u001B[1;33m:\u001B[0m\u001B[1;33m\u001B[0m\u001B[1;33m\u001B[0m\u001B[0m\n",
      "\u001B[1;32m~\\anaconda3\\envs\\MusicGenerator\\lib\\site-packages\\torch\\autograd\\__init__.py\u001B[0m in \u001B[0;36mbackward\u001B[1;34m(tensors, grad_tensors, retain_graph, create_graph, grad_variables, inputs)\u001B[0m\n\u001B[0;32m    152\u001B[0m         \u001B[0mretain_graph\u001B[0m \u001B[1;33m=\u001B[0m \u001B[0mcreate_graph\u001B[0m\u001B[1;33m\u001B[0m\u001B[1;33m\u001B[0m\u001B[0m\n\u001B[0;32m    153\u001B[0m \u001B[1;33m\u001B[0m\u001B[0m\n\u001B[1;32m--> 154\u001B[1;33m     Variable._execution_engine.run_backward(\n\u001B[0m\u001B[0;32m    155\u001B[0m         \u001B[0mtensors\u001B[0m\u001B[1;33m,\u001B[0m \u001B[0mgrad_tensors_\u001B[0m\u001B[1;33m,\u001B[0m \u001B[0mretain_graph\u001B[0m\u001B[1;33m,\u001B[0m \u001B[0mcreate_graph\u001B[0m\u001B[1;33m,\u001B[0m \u001B[0minputs\u001B[0m\u001B[1;33m,\u001B[0m\u001B[1;33m\u001B[0m\u001B[1;33m\u001B[0m\u001B[0m\n\u001B[0;32m    156\u001B[0m         allow_unreachable=True, accumulate_grad=True)  # allow_unreachable flag\n",
      "\u001B[1;31mKeyboardInterrupt\u001B[0m: "
     ]
    },
    {
     "data": {
      "text/plain": "<Figure size 432x288 with 1 Axes>",
      "image/png": "[encoded data removed]"
     },
     "metadata": {
      "needs_background": "light"
     },
     "output_type": "display_data"
    }
   ],
   "source": [
    "checkpoint_dir = os.path.join(cwd, checkpoint_dir)\n",
    "#try to create pytorch training checkpoints directory\n",
    "try:\n",
    "    os.mkdir(checkpoint_dir)\n",
    "except FileExistsError:\n",
    "    print(\"The pytorch training directory already exists...\")\n",
    "\n",
    "checkpoint_prefix = os.path.join(checkpoint_dir, checkpoint_prefix)\n",
    "\n",
    "### Define optimizer and training operation ###\n",
    "\n",
    "model = MyLSTM(vocab_size, embedding_dim, rnn_units, batch_size, seq_length)\n",
    "model.to(device)\n",
    "\n",
    "#optimizer = torch.optim.Adam(model.parameters(), lr=learning_rate)\n",
    "optimizer = torch.optim.SGD(model.parameters(), lr=learning_rate, momentum=0.9)\n",
    "\n",
    "def torch_train(x, y, hn, cn):\n",
    "    x = torch.tensor(x).to(device)\n",
    "    optimizer.zero_grad()\n",
    "    # forward pass and loss calculation\n",
    "    # implicit tape-based AD\n",
    "    y_hat, (hn, cn) = model(x, hn, cn)\n",
    "    y_hat.to(device)\n",
    "    hn.to(device)\n",
    "    cn.to(device)\n",
    "    loss = compute_loss(y, y_hat)\n",
    "\n",
    "    # compute gradients (grad)\n",
    "    loss.backward()\n",
    "    optimizer.step()\n",
    "    return loss, (hn, cn)\n",
    "\n",
    "if train:\n",
    "\n",
    "    # try to create pytorch training checkpoints directory\n",
    "    try:\n",
    "        os.mkdir(checkpoint_dir)\n",
    "    except FileExistsError:\n",
    "        print(\"The pytorch training directory already exists...\")\n",
    "\n",
    "    ##################\n",
    "    # Begin training!#\n",
    "    ##################\n",
    "    history = []\n",
    "    plotter = PeriodicPlotter(sec=2, xlabel='Iterations', ylabel='Loss')\n",
    "    if hasattr(tqdm, '_instances'): tqdm._instances.clear()  # clear if it exists\n",
    "\n",
    "    for epoch in range(epochs):\n",
    "        hn = torch.zeros(1, 1, rnn_units).to(device)  # [num_layers*num_directions,batch,hidden_size]\n",
    "        cn = torch.zeros(1, 1, rnn_units).to(device)  # [num_layers*num_directions,batch,hidden_size]\n",
    "\n",
    "        for iter in tqdm(range(num_training_iterations)):\n",
    "\n",
    "            # Grab a batch and propagate it through the network\n",
    "            x_batch, y_batch = get_batch(vectorized_songs, seq_length, batch_size)\n",
    "            loss, (hn, cn) = torch_train(x_batch, y_batch, hn, cn)\n",
    "\n",
    "            # Update the progress bar\n",
    "            history.append(loss.cpu().detach().numpy().mean())\n",
    "            plotter.plot(history)\n",
    "\n",
    "            # Update the model with the changed weights!\n",
    "            if iter % 100 == 0:\n",
    "                torch.save(model.state_dict(), checkpoint_prefix)\n",
    "\n",
    "    # Save the trained model and the weights\n",
    "    torch.save(model.state_dict(), checkpoint_prefix)\n",
    "\n",
    "\n",
    "if(inference):\n",
    "\n",
    "    ### Prediction of a generated song ###\n",
    "\n",
    "    def generate_text(model, start_string, generation_length=1000):\n",
    "        # Evaluation step (generating ABC text using the learned RNN model)\n",
    "\n",
    "        input_eval = [char2idx[s] for s in start_string]\n",
    "        input_eval = np.expand_dims(input_eval, axis=0)\n",
    "\n",
    "        # Empty string to store our results\n",
    "        text_generated = []\n",
    "\n",
    "        # Here batch size == 1\n",
    "        '''\n",
    "        for layer in model.children():\n",
    "            if hasattr(layer, 'reset_parameters'):\n",
    "                layer.reset_parameters()\n",
    "        '''\n",
    "        hn = torch.zeros(1, 1, rnn_units).to(device)  # [num_layers*num_directions,batch,hidden_size]\n",
    "        cn = torch.zeros(1, 1, rnn_units).to(device)  # [num_layers*num_directions,batch,hidden_size]\n",
    "\n",
    "        tqdm._instances.clear()\n",
    "\n",
    "        for i in tqdm(range(generation_length)):\n",
    "            input_eval = torch.tensor(input_eval).to(device)\n",
    "            predictions, (hn, cn) = model(input_eval, hn, cn)\n",
    "            predictions.to(device)\n",
    "\n",
    "            # Remove the batch dimension\n",
    "            # predictions = tf.squeeze(predictions, 0)\n",
    "            predictions = torch.squeeze(predictions, dim=0)\n",
    "\n",
    "            # predicted_id = tf.random.categorical(predictions, num_samples=1)[-1, 0].numpy()\n",
    "            predicted_id = torch.distributions.categorical.Categorical(logits=predictions).sample()[0].cpu().numpy()\n",
    "            # predicted_id = torch.distributions.categorical.Categorical(logits=predictions)\n",
    "\n",
    "            # Pass the prediction along with the previous hidden state\n",
    "            #   as the next inputs to the model\n",
    "            input_eval = np.expand_dims(np.array([predicted_id]), axis=0)\n",
    "\n",
    "            '''add the predicted character to the generated text!'''\n",
    "            # Hint: consider what format the prediction is in vs. the output\n",
    "            text_generated.append(idx2char[predicted_id])\n",
    "\n",
    "        return (start_string + ''.join(text_generated))\n",
    "\n",
    "    # Restore the model weights for the last checkpoint after training\n",
    "    model = MyLSTM(vocab_size, embedding_dim, rnn_units, batch_size, seq_length)\n",
    "    model.to(device)\n",
    "    model.load_state_dict(torch.load(checkpoint_prefix))\n",
    "    model.eval()\n",
    "    print(model)\n",
    "\n",
    "    '''Use the model and the function defined above to generate ABC format text of length 1000!\n",
    "        As you may notice, ABC files start with \"X\" - this may be a good start string.'''\n",
    "    generated_text = generate_text(model, start_string=\"X\", generation_length=1000)\n",
    "\n",
    "    generated_songs = extract_song_snippet(generated_text)\n",
    "\n",
    "    for i, song in enumerate(generated_songs):\n",
    "        # could be incorrect ABC notational syntax, save the ABC file anyway...\n",
    "        print(\"---------------------------------------------------------------\")\n",
    "        print(\"Generated song\", i)\n",
    "        n = \"gan_song_{}\".format(i)\n",
    "        basename = os.path.join(op, save_song_to_abc(song, filename=n))\n",
    "        abc2wav(basename + '.abc')"
   ],
   "metadata": {
    "collapsed": false,
    "pycharm": {
     "name": "#%%\n"
    }
   }
  }
 ],
 "metadata": {
  "kernelspec": {
   "display_name": "Python 3",
   "language": "python",
   "name": "python3"
  },
  "language_info": {
   "codemirror_mode": {
    "name": "ipython",
    "version": 2
   },
   "file_extension": ".py",
   "mimetype": "text/x-python",
   "name": "python",
   "nbconvert_exporter": "python",
   "pygments_lexer": "ipython2",
   "version": "2.7.6"
  }
 },
 "nbformat": 4,
 "nbformat_minor": 0
}