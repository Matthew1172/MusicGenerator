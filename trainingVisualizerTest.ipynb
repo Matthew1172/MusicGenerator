{
 "cells": [
  {
   "cell_type": "code",
   "execution_count": 116,
   "outputs": [],
   "source": [
    "import tensorflow as tf\n",
    "import numpy as np\n",
    "import os\n",
    "import time\n",
    "import regex as re\n",
    "import subprocess\n",
    "import urllib\n",
    "import functools\n",
    "\n",
    "import torch.distributions.distribution\n",
    "from IPython import display as ipythondisplay\n",
    "from tqdm import tqdm\n",
    "import matplotlib.pyplot as plt\n",
    "\n",
    "from Graph import PeriodicPlotter\n",
    "from LSTM_Model import *"
   ],
   "metadata": {
    "collapsed": false,
    "pycharm": {
     "name": "#%%\n"
    }
   }
  },
  {
   "cell_type": "code",
   "execution_count": 117,
   "outputs": [],
   "source": [
    "def save_song_to_abc(song, filename=\"sampleFromDataset\"):\n",
    "    save_name = os.path.join(op, \"{}.abc\".format(filename))\n",
    "    with open(save_name, \"w\") as f:\n",
    "        f.write(song)\n",
    "    return filename\n",
    "\n",
    "def abc2wav(abc_file):\n",
    "    suf = abc_file.rstrip('.abc')\n",
    "    print(abc_file)\n",
    "    cmd = \"abc2midi {} -o {}\".format(abc_file, suf + \".mid\")\n",
    "    os.system(cmd)\n",
    "    #can't write to file.. tmp.mid is not a midi file. We will just save the wav file as the name of the mid file\n",
    "    #cmd = \"timidity {}.mid -Ow {}.wav\".format(suf, suf)\n",
    "    cmd = \"timidity {}.mid -Ow\".format(suf, suf)\n",
    "    return os.system(cmd)\n",
    "\n",
    "def play_wav(wav_file):\n",
    "    return ipythondisplay.Audio(wav_file)\n",
    "\n",
    "def play_song(song):\n",
    "    basename = os.path.join(op, save_song_to_abc(song))\n",
    "    ret = abc2wav(basename + '.abc')\n",
    "    if ret == 0:  # did not suceed\n",
    "        return play_wav(basename + '.wav')\n",
    "    return None\n",
    "\n",
    "def extract_song_snippet(text):\n",
    "    pattern = '(^|\\n\\n)(.*?)\\n\\n'\n",
    "    search_results = re.findall(pattern, text, overlapped=True, flags=re.DOTALL)\n",
    "    songs = [song[1] for song in search_results]\n",
    "    print(\"Found {} songs in text\".format(len(songs)))\n",
    "    return songs\n"
   ],
   "metadata": {
    "collapsed": false,
    "pycharm": {
     "name": "#%%\n"
    }
   }
  },
  {
   "cell_type": "code",
   "execution_count": 118,
   "outputs": [],
   "source": [
    "# Check that we are using a GPU, if not switch runtimes\n",
    "#   using Runtime > Change Runtime Type > GPU\n",
    "# assert len(tf.config.list_physical_devices('GPU')) > 0\n",
    "\n",
    "train = True\n",
    "songs = []"
   ],
   "metadata": {
    "collapsed": false,
    "pycharm": {
     "name": "#%%\n"
    }
   }
  },
  {
   "cell_type": "code",
   "execution_count": 119,
   "outputs": [],
   "source": [
    "#current directory\n",
    "cwd = os.getcwd()\n",
    "#collection of all outputs directory\n",
    "opd = os.path.join(cwd, \"test_outputs\")\n",
    "#output directory for this generation\n",
    "\n",
    "op = os.path.join(opd, \"output@\"+time.asctime().replace(' ', '').replace(':', ''))\n",
    "\n",
    "#create directories\n",
    "try:\n",
    "    os.mkdir(opd)\n",
    "except FileExistsError:\n",
    "    print(\"The test_outputs directory already exists...\")\n",
    "\n",
    "try:\n",
    "    os.mkdir(op)\n",
    "except FileExistsError:\n",
    "    print(\"The directory {} already exists...\".format(op))"
   ],
   "metadata": {
    "collapsed": false,
    "pycharm": {
     "name": "#%%\n"
    }
   }
  },
  {
   "cell_type": "code",
   "execution_count": 120,
   "outputs": [
    {
     "name": "stdout",
     "output_type": "stream",
     "text": [
      "Found 818 songs in text\n",
      "\n",
      "Example song: \n",
      "X:1\n",
      "T:Alexander's\n",
      "Z: id:dc-hornpipe-1\n",
      "M:C|\n",
      "L:1/8\n",
      "K:D Major\n",
      "(3ABc|dAFA DFAd|fdcd FAdf|gfge fefd|(3efe (3dcB A2 (3ABc|!\n",
      "dAFA DFAd|fdcd FAdf|gfge fefd|(3efe dc d2:|!\n",
      "AG|FAdA FAdA|GBdB GBdB|Acec Acec|dfaf gecA|!\n",
      "FAdA FAdA|GBdB GBdB|Aceg fefd|(3efe dc d2:|!\n",
      "C:\\Users\\pecko\\PycharmProjects\\MusicGenerator\\test_outputs\\output@ThuMar100241422022\\sampleFromDataset.abc\n"
     ]
    }
   ],
   "source": [
    "with open(os.path.join(cwd, 'dataset', 'irish.abc'), 'r') as f:\n",
    "    text = f.read()\n",
    "    songs = extract_song_snippet(text)\n",
    "\n",
    "# Print one of the songs to inspect it in greater detail!\n",
    "example_song = songs[0]\n",
    "print(\"\\nExample song: \")\n",
    "print(example_song)\n",
    "\n",
    "# need abc2midi and timidity\n",
    "play_song(example_song)"
   ],
   "metadata": {
    "collapsed": false,
    "pycharm": {
     "name": "#%%\n"
    }
   }
  },
  {
   "cell_type": "code",
   "execution_count": 121,
   "outputs": [
    {
     "name": "stdout",
     "output_type": "stream",
     "text": [
      "There are 83 unique characters in the dataset\n",
      "{\n",
      "  '\\n':   0,\n",
      "  ' ' :   1,\n",
      "  '!' :   2,\n",
      "  '\"' :   3,\n",
      "  '#' :   4,\n",
      "  \"'\" :   5,\n",
      "  '(' :   6,\n",
      "  ')' :   7,\n",
      "  ',' :   8,\n",
      "  '-' :   9,\n",
      "  '.' :  10,\n",
      "  '/' :  11,\n",
      "  '0' :  12,\n",
      "  '1' :  13,\n",
      "  '2' :  14,\n",
      "  '3' :  15,\n",
      "  '4' :  16,\n",
      "  '5' :  17,\n",
      "  '6' :  18,\n",
      "  '7' :  19,\n",
      "  ...\n",
      "}\n",
      "'X:1\\nT:Alex' ---- characters mapped to int ----> [49 22 13  0 45 22 26 67 60 79]\n"
     ]
    }
   ],
   "source": [
    "# Join our list of song strings into a single string containing all songs\n",
    "songs_joined = \"\\n\\n\".join(songs)\n",
    "\n",
    "# Find all unique characters in the joined string\n",
    "vocab = sorted(set(songs_joined))\n",
    "print(\"There are\", len(vocab), \"unique characters in the dataset\")\n",
    "\n",
    "### Define numerical representation of text ###\n",
    "\n",
    "# Create a mapping from character to unique index.\n",
    "# For example, to get the index of the character \"d\",\n",
    "#   we can evaluate `char2idx[\"d\"]`.\n",
    "char2idx = {u: i for i, u in enumerate(vocab)}\n",
    "\n",
    "# Create a mapping from indices to characters. This is\n",
    "#   the inverse of char2idx and allows us to convert back\n",
    "#   from unique index to the character in our vocabulary.\n",
    "idx2char = np.array(vocab)  ### Define numerical representation of text ###\n",
    "\n",
    "# Create a mapping from character to unique index.\n",
    "# For example, to get the index of the character \"d\",\n",
    "#   we can evaluate `char2idx[\"d\"]`.\n",
    "char2idx = {u: i for i, u in enumerate(vocab)}\n",
    "\n",
    "# Create a mapping from indices to characters. This is\n",
    "#   the inverse of char2idx and allows us to convert back\n",
    "#   from unique index to the character in our vocabulary.\n",
    "idx2char = np.array(vocab)\n",
    "\n",
    "print('{')\n",
    "for char, _ in zip(char2idx, range(20)):\n",
    "    print('  {:4s}: {:3d},'.format(repr(char), char2idx[char]))\n",
    "print('  ...\\n}')\n",
    "\n",
    "### Vectorize the songs string ###\n",
    "\n",
    "'''TODO: Write a function to convert the all songs string to a vectorized\n",
    "    (i.e., numeric) representation. Use the appropriate mapping\n",
    "    above to convert from vocab characters to the corresponding indices.\n",
    "\n",
    "  NOTE: the output of the `vectorize_string` function\n",
    "  should be a np.array with `N` elements, where `N` is\n",
    "  the number of characters in the input string\n",
    "'''\n",
    "\n",
    "\n",
    "def vectorize_string(string):\n",
    "    vectorized_list = np.array([char2idx[s] for s in string])\n",
    "    return vectorized_list\n",
    "\n",
    "\n",
    "vectorized_songs = vectorize_string(songs_joined)\n",
    "\n",
    "print('{} ---- characters mapped to int ----> {}'.format(repr(songs_joined[:10]), vectorized_songs[:10]))\n",
    "# check that vectorized_songs is a numpy array\n",
    "assert isinstance(vectorized_songs, np.ndarray), \"returned result should be a numpy array\"\n",
    "\n",
    "\n",
    "def test_batch_func_types(func, args):\n",
    "    ret = func(*args)\n",
    "    assert len(ret) == 2, \"[FAIL] get_batch must return two arguments (input and label)\"\n",
    "    assert type(ret[0]) == np.ndarray, \"[FAIL] test_batch_func_types: x is not np.array\"\n",
    "    assert type(ret[1]) == np.ndarray, \"[FAIL] test_batch_func_types: y is not np.array\"\n",
    "    print(\"[PASS] test_batch_func_types\")\n",
    "    return True\n",
    "\n",
    "\n",
    "def test_batch_func_shapes(func, args):\n",
    "    dataset, seq_length, batch_size = args\n",
    "    x, y = func(*args)\n",
    "    correct = (batch_size, seq_length)\n",
    "    assert x.shape == correct, \"[FAIL] test_batch_func_shapes: x {} is not correct shape {}\".format(x.shape, correct)\n",
    "    assert y.shape == correct, \"[FAIL] test_batch_func_shapes: y {} is not correct shape {}\".format(y.shape, correct)\n",
    "    print(\"[PASS] test_batch_func_shapes\")\n",
    "    return True\n",
    "\n",
    "\n",
    "def test_batch_func_next_step(func, args):\n",
    "    x, y = func(*args)\n",
    "    assert (x[:, 1:] == y[:, :-1]).all(), \"[FAIL] test_batch_func_next_step: x_{t} must equal y_{t-1} for all t\"\n",
    "    print(\"[PASS] test_batch_func_next_step\")\n",
    "    return True\n",
    "\n",
    "\n",
    "### Batch definition to create training examples ###\n",
    "\n",
    "def get_batch(vectorized_songs, seq_length, batch_size):\n",
    "    # the length of the vectorized songs string\n",
    "    n = vectorized_songs.shape[0] - 1\n",
    "    # randomly choose the starting indices for the examples in the training batch\n",
    "    idx = np.random.choice(n - seq_length, batch_size)\n",
    "\n",
    "    '''TODO: construct a list of input sequences for the training batch'''\n",
    "    input_batch = [vectorized_songs[i:i + seq_length] for i in idx]\n",
    "    '''TODO: construct a list of output sequences for the training batch'''\n",
    "    output_batch = [vectorized_songs[i + 1: i + 1 + seq_length] for i in idx]\n",
    "\n",
    "    # x_batch, y_batch provide the true inputs and targets for network training\n",
    "    x_batch = np.reshape(input_batch, [batch_size, seq_length])\n",
    "    y_batch = np.reshape(output_batch, [batch_size, seq_length])\n",
    "    return x_batch, y_batch"
   ],
   "metadata": {
    "collapsed": false,
    "pycharm": {
     "name": "#%%\n"
    }
   }
  },
  {
   "cell_type": "code",
   "execution_count": 122,
   "outputs": [
    {
     "name": "stdout",
     "output_type": "stream",
     "text": [
      "[PASS] test_batch_func_types\n",
      "[PASS] test_batch_func_shapes\n",
      "[PASS] test_batch_func_next_step\n",
      "======\n",
      "[PASS] passed all tests!\n",
      "Step   0\n",
      "  input: 60 ('e')\n",
      "  expected output: 56 ('a')\n",
      "Step   1\n",
      "  input: 56 ('a')\n",
      "  expected output: 62 ('g')\n",
      "Step   2\n",
      "  input: 62 ('g')\n",
      "  expected output: 60 ('e')\n",
      "Step   3\n",
      "  input: 60 ('e')\n",
      "  expected output: 1 (' ')\n",
      "Step   4\n",
      "  input: 1 (' ')\n",
      "  expected output: 59 ('d')\n"
     ]
    }
   ],
   "source": [
    "# Perform some simple tests to make sure your batch function is working properly!\n",
    "test_args = (vectorized_songs, 10, 2)\n",
    "if not test_batch_func_types(get_batch, test_args) or \\\n",
    "        not test_batch_func_shapes(get_batch, test_args) or \\\n",
    "        not test_batch_func_next_step(get_batch, test_args):\n",
    "    print(\"======\\n[FAIL] could not pass tests\")\n",
    "else:\n",
    "    print(\"======\\n[PASS] passed all tests!\")\n",
    "\n",
    "x_batch, y_batch = get_batch(vectorized_songs, seq_length=5, batch_size=1)\n",
    "\n",
    "for i, (input_idx, target_idx) in enumerate(zip(np.squeeze(x_batch), np.squeeze(y_batch))):\n",
    "    print(\"Step {:3d}\".format(i))\n",
    "    print(\"  input: {} ({:s})\".format(input_idx, repr(idx2char[input_idx])))\n",
    "    print(\"  expected output: {} ({:s})\".format(target_idx, repr(idx2char[target_idx])))"
   ],
   "metadata": {
    "collapsed": false,
    "pycharm": {
     "name": "#%%\n"
    }
   }
  },
  {
   "cell_type": "code",
   "execution_count": 123,
   "metadata": {
    "collapsed": true
   },
   "outputs": [
    {
     "name": "stdout",
     "output_type": "stream",
     "text": [
      "MusicGenerator(\n",
      "  (lstm_model): Sequential(\n",
      "    (0): Embedding(400, 256)\n",
      "    (1): LSTM(256, 1024, batch_first=True)\n",
      "    (2): GetLSTMOutput()\n",
      "    (3): Linear(in_features=1024, out_features=83, bias=True)\n",
      "  )\n",
      ")\n",
      "Input shape:       (4, 100)  # (batch_size, sequence_length)\n",
      "Prediction shape:  torch.Size([4, 100, 83]) # (batch_size, sequence_length, vocab_size)\n",
      "Input: \n",
      " 'afd edB|dcd AFA|dcd ede|fef efg|!\\nafd edB|dcd AFA|dcd efg|fdc d2:|!\\ne|f3 g3|f3 fed|f3 g3|afd e2d|!\\nf'\n",
      "Next Char Predictions: \n",
      " '1gy!:/SR0)zGye8.L>m\\'Fa\\'6SBOq yC8G k/q_/y\\nw.\\n0bQ92Ra>,Q6fUWKiV=B\"k^l!ao\"i5bgWFAYVwhB)a0rL4E!2Jh<>fj7('\n"
     ]
    }
   ],
   "source": [
    "# Build a simple model with default hyperparameters. You will get the\n",
    "#   chance to change these later.\n",
    "#model = build_model(len(vocab), embedding_dim=256, rnn_units=1024, batch_size=4)\n",
    "model = MusicGenerator(len(vocab), embedding_dim=256, rnn_units=1024, batch_size=4, seq_length=100)\n",
    "\n",
    "print(model)\n",
    "#model.summary()\n",
    "\n",
    "x, y = get_batch(vectorized_songs, seq_length=100, batch_size=4)\n",
    "pred = model(x)\n",
    "print(\"Input shape:      \", x.shape, \" # (batch_size, sequence_length)\")\n",
    "print(\"Prediction shape: \", pred.shape, \"# (batch_size, sequence_length, vocab_size)\")\n",
    "\n",
    "#sampled_indices = tf.random.categorical(pred[0], num_samples=1)\n",
    "#sampled_indices = tf.squeeze(sampled_indices, axis=-1).numpy()\n",
    "sampled_indices = torch.distributions.categorical.Categorical(logits=pred[0]).sample()\n",
    "sampled_indices = torch.squeeze(sampled_indices, dim=-1).numpy()\n",
    "\n",
    "print(\"Input: \\n\", repr(\"\".join(idx2char[x[0]])))\n",
    "print(\"Next Char Predictions: \\n\", repr(\"\".join(idx2char[sampled_indices])))"
   ]
  },
  {
   "cell_type": "code",
   "execution_count": 124,
   "outputs": [
    {
     "name": "stdout",
     "output_type": "stream",
     "text": [
      "Prediction shape:  torch.Size([4, 100, 83])  # (batch_size, sequence_length, vocab_size)\n",
      "scalar_loss:       4.417476\n"
     ]
    }
   ],
   "source": [
    "### Defining the loss function ###\n",
    "\n",
    "'''TODO: define the loss function to compute and return the loss between\n",
    "    the true labels and predictions (logits). Set the argument from_logits=True.'''\n",
    "\n",
    "\n",
    "def compute_loss(labels, logits):\n",
    "    #loss = tf.keras.losses.sparse_categorical_crossentropy(labels, logits.detach().numpy(), from_logits=True)\n",
    "    x = torch.Tensor(logits).permute((0, 2, 1))  # shape of preds must be (N, C, H, W) instead of (N, H, W, C)\n",
    "    y = torch.Tensor(labels).long()  # shape of labels must be (N, H, W) and type must be long integer\n",
    "    loss = torch.nn.CrossEntropyLoss()(x, y)\n",
    "    return loss\n",
    "\n",
    "'''TODO: compute the loss using the true next characters from the example batch\n",
    "    and the predictions from the untrained model several cells above'''\n",
    "example_batch_loss = compute_loss(y, pred)\n",
    "\n",
    "print(\"Prediction shape: \", pred.shape, \" # (batch_size, sequence_length, vocab_size)\")\n",
    "'''\n",
    "example_batch_loss.numpy().mean() = 4.417909\n",
    "'''\n",
    "print(\"scalar_loss:      \", example_batch_loss.detach().numpy().mean())"
   ],
   "metadata": {
    "collapsed": false,
    "pycharm": {
     "name": "#%%\n"
    }
   }
  },
  {
   "cell_type": "code",
   "execution_count": 125,
   "outputs": [
    {
     "data": {
      "text/plain": "<Figure size 432x288 with 1 Axes>",
      "image/png": "[encoded data removed]"
     },
     "metadata": {},
     "output_type": "display_data"
    },
    {
     "name": "stderr",
     "output_type": "stream",
     "text": [
      "100%|██████████| 10000/10000 [4:14:32<00:00,  1.53s/it]\n"
     ]
    },
    {
     "data": {
      "text/plain": "<Figure size 432x288 with 1 Axes>",
      "image/png": "[encoded data removed]"
     },
     "metadata": {
      "needs_background": "light"
     },
     "output_type": "display_data"
    }
   ],
   "source": [
    "### Hyperparameter setting and optimization ###\n",
    "\n",
    "epochs = 1\n",
    "\n",
    "# Optimization parameters:\n",
    "num_training_iterations = 10000  # Increase this to train longer\n",
    "batch_size = 8  # Experiment between 1 and 64\n",
    "seq_length = 100  # Experiment between 50 and 500\n",
    "learning_rate = 1e-1  # Experiment between 1e-5 and 1e-1\n",
    "\n",
    "# Model parameters:\n",
    "vocab_size = len(vocab)\n",
    "embedding_dim = 256\n",
    "rnn_units = 1024  # Experiment between 1 and 2048\n",
    "\n",
    "# Checkpoint location:\n",
    "checkpoint_dir = 'training_checkpoints_pytorch'\n",
    "checkpoint_prefix = 'my_ckpt'\n",
    "\n",
    "checkpoint_dir = os.path.join(cwd, checkpoint_dir)\n",
    "#try to create pytorch training checkpoints directory\n",
    "try:\n",
    "    os.mkdir(checkpoint_dir)\n",
    "except FileExistsError:\n",
    "    print(\"The pytorch training directory already exists...\")\n",
    "\n",
    "checkpoint_prefix = os.path.join(checkpoint_dir, checkpoint_prefix)\n",
    "\n",
    "\n",
    "### Define optimizer and training operation ###\n",
    "\n",
    "'''TODO: instantiate a new model for training using the `build_model`\n",
    "  function and the hyperparameters created above.'''\n",
    "# model = build_model(vocab_size, embedding_dim, rnn_units, batch_size)\n",
    "#model = MusicGenerator(vocab_size=len(vocab), embedding_dim=embedding_dim, rnn_units=rnn_units, batch_size=batch_size, seq_length=seq_length)\n",
    "model = torch.nn.Sequential(\n",
    "            torch.nn.Embedding(batch_size*seq_length, embedding_dim),\n",
    "            torch.nn.LSTM(embedding_dim, rnn_units, batch_first=True),\n",
    "            GetLSTMOutput(),\n",
    "            torch.nn.Linear(rnn_units, vocab_size)\n",
    "        )\n",
    "\n",
    "'''TODO: instantiate an optimizer with its learning rate.\n",
    "  Checkout the tensorflow website for a list of supported optimizers.\n",
    "  https://www.tensorflow.org/api_docs/python/tf/keras/optimizers/\n",
    "  Try using the Adam optimizer to start.'''\n",
    "# optimizer = tf.keras.optimizers.Adam(learning_rate)\n",
    "#optimizer = torch.optim.Adam(model.parameters(), lr=learning_rate)\n",
    "optimizer = torch.optim.SGD(model.parameters(), lr=learning_rate, momentum=0.9)\n",
    "\n",
    "def torch_train(x, y):\n",
    "    for epoch in range(epochs):\n",
    "        # forward pass and loss calculation\n",
    "        # implicit tape-based AD\n",
    "        y_hat = model(torch.tensor(x))\n",
    "        loss = compute_loss(y, y_hat)\n",
    "\n",
    "        optimizer.zero_grad()\n",
    "        # compute gradients (grad)\n",
    "        loss.backward()\n",
    "        optimizer.step()\n",
    "        return loss\n",
    "\n",
    "### Prediction of a generated song ###\n",
    "\n",
    "def generate_text(model, start_string, generation_length=1000):\n",
    "    # Evaluation step (generating ABC text using the learned RNN model)\n",
    "\n",
    "    '''TODO: convert the start string to numbers (vectorize)'''\n",
    "    input_eval = [char2idx[s] for s in start_string]\n",
    "    input_eval = tf.expand_dims(input_eval, 0)\n",
    "\n",
    "    # Empty string to store our results\n",
    "    text_generated = []\n",
    "\n",
    "    # Here batch size == 1\n",
    "    model.reset_states()\n",
    "    tqdm._instances.clear()\n",
    "\n",
    "    for i in tqdm(range(generation_length)):\n",
    "        predictions = model(input_eval)\n",
    "\n",
    "        # Remove the batch dimension\n",
    "        predictions = tf.squeeze(predictions, 0)\n",
    "\n",
    "        '''TODO: use a multinomial distribution to sample'''\n",
    "        predicted_id = tf.random.categorical(predictions, num_samples=1)[-1, 0].numpy()\n",
    "\n",
    "        # Pass the prediction along with the previous hidden state\n",
    "        #   as the next inputs to the model\n",
    "        input_eval = tf.expand_dims([predicted_id], 0)\n",
    "\n",
    "        '''TODO: add the predicted character to the generated text!'''\n",
    "        # Hint: consider what format the prediction is in vs. the output\n",
    "        text_generated.append(idx2char[predicted_id])\n",
    "\n",
    "    return (start_string + ''.join(text_generated))\n",
    "\n",
    "\n",
    "##################\n",
    "# Begin training!#\n",
    "##################\n",
    "history = []\n",
    "plotter = PeriodicPlotter(sec=2, xlabel='Iterations', ylabel='Loss')\n",
    "if hasattr(tqdm, '_instances'): tqdm._instances.clear()  # clear if it exists\n",
    "\n",
    "for iter in tqdm(range(num_training_iterations)):\n",
    "\n",
    "    # Grab a batch and propagate it through the network\n",
    "    x_batch, y_batch = get_batch(vectorized_songs, seq_length, batch_size)\n",
    "    #loss = train_step(x_batch, y_batch)\n",
    "    loss = torch_train(x_batch, y_batch)\n",
    "\n",
    "    # Update the progress bar\n",
    "    history.append(loss.detach().numpy().mean())\n",
    "    plotter.plot(history)\n",
    "\n",
    "    # Update the model with the changed weights!\n",
    "    if iter % 100 == 0:\n",
    "        #model.save_weights(checkpoint_prefix)\n",
    "        torch.save(model.state_dict(), checkpoint_prefix)\n",
    "\n",
    "# Save the trained model and the weights\n",
    "#model.save_weights(checkpoint_prefix)\n",
    "torch.save(model.state_dict(), checkpoint_prefix)"
   ],
   "metadata": {
    "collapsed": false,
    "pycharm": {
     "name": "#%%\n"
    }
   }
  }
 ],
 "metadata": {
  "kernelspec": {
   "display_name": "Python 3",
   "language": "python",
   "name": "python3"
  },
  "language_info": {
   "codemirror_mode": {
    "name": "ipython",
    "version": 2
   },
   "file_extension": ".py",
   "mimetype": "text/x-python",
   "name": "python",
   "nbconvert_exporter": "python",
   "pygments_lexer": "ipython2",
   "version": "2.7.6"
  }
 },
 "nbformat": 4,
 "nbformat_minor": 0
}